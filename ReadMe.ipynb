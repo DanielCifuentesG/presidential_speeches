{
 "cells": [
  {
   "cell_type": "markdown",
   "metadata": {},
   "source": [
    "# Analysis of the speeches given by the President of Colombia, Juan M. Santos, from August 2010 to March 2016\n",
    "\n",
    "[Santiago Matallana](http://www.santiagomatallana.com)\n",
    "\n",
    "15-Mar-2016"
   ]
  },
  {
   "cell_type": "markdown",
   "metadata": {},
   "source": [
    "<img src=\"wordcloud/wordcloud.png\">"
   ]
  },
  {
   "cell_type": "markdown",
   "metadata": {},
   "source": [
    "---"
   ]
  },
  {
   "cell_type": "markdown",
   "metadata": {},
   "source": [
    "## Description and motivation"
   ]
  },
  {
   "cell_type": "markdown",
   "metadata": {},
   "source": [
    "Colombia’s Presidency makes public on its website the interventions/speeches that current President Juan Manuel Santos has given since he came to office in August 2010. For this project I scraped those texts (over 2,600 speeches) and analyzed them using text analysis tools in Python.\n",
    "\n",
    "Some questions/issues that motivated the project are:\n",
    "\n",
    "- President Santos is trying to end a near 50-year-old conflict with left-wing guerilla FARC. There is an ongoing peace process that started in October 2012. Does the data reflect that in any way?\n",
    "- President’s in Colombia can be reelected for one four-year period, for a maximum of eight years in office. President Santos was reelected in mid 2014. As is typical, prior to elections a Law for Electoral Guarantees was enacted. That law limited the type of political events that President Santos could hold, such as inaugurations of public works. Does the data reflect that in any way?\n",
    "- The right-wing opposition, led by Ex-President Alvaro Uribe, has fiercely attacked Santos’ government and the peace process in particular. Juan Manuel Santos was Uribe’s Defense Minister and got elected with the support of the Ex-President. To the face of the public they have distanced dramatically over the past six years. Does the data reflect that in any way?\n",
    "- What is the relative importance of policy areas, in terms of mentions of key words, such as education, entrepreneurship, employment, poverty, innovation, etc.?\n",
    "- How does the data reflect specific events such us the recent decrease in oil prices, the depreciation of the COP, the soccer World Cup, etc.\n",
    "- What do basic descriptive statistics of the data tell us about the President's interventions?"
   ]
  },
  {
   "cell_type": "markdown",
   "metadata": {},
   "source": [
    "## Methods used"
   ]
  },
  {
   "cell_type": "markdown",
   "metadata": {},
   "source": [
    "1. Scraping\n",
    "    - The President’s speeches are available online in three batches, from three different websites.\n",
    "        - Batch 1: from 08/07/2010 to 08/06/2014 (1,873 speeches): http://wsp.presidencia.gov.co/Discursos\n",
    "        - Batch 2: from 08/07/2014 to 12/12/2015 (678 speeches): http://wp.presidencia.gov.co/Discursos\n",
    "        - Batch 3: Most recent ones –last date of scraping: 03/13/2016– (118 speeches): http://es.presidencia.gov.co/discursos\n",
    "    - To scrape the two batches of older speeches I used the 'requests' and 'BeautifulSoup' libraries.\n",
    "    - The recent batch is available in a JavaScript rendered site. I extracted all the available speeches using 'selenium' library and 'webdriver' with Chrome.\n",
    "    - The Python code is available [here for batches 1 and 2](scraper_batches_1-2.ipynb) and [here for batch 3](scraper_batch_3.ipynb).\n",
    "<br><br>\n",
    "2. Extracting the data from 'BeatifulSoup' objects:\n",
    "    - Both to scrape the raw text and to extract the data from it, I wrote helper functions to: get htmls; get urls to speeches; get year, month, and day information from the text; get the title of the speech; remove html tags; get the location of the speech; and get all the elements of a speech in a structured object.\n",
    "    - Helper functions are available [here](scraper_helper.ipynb).\n",
    "<br><br>\n",
    "3. Managing, storing, and further cleaning the data:\n",
    "    - I used 'Pandas' to create a data frame for each batch of speeches, and exported each to a 'pickle' file for storage.\n",
    "    - I consolidated the three data frames into one and furthered cleaned the data using 'Pandas' methods, 'string' methods, regular expressions, etc.\n",
    "    - Using 'string' and 'nltk' libraries I stripped speeches from punctuation, converted to lowercase, tokenized text, dropped stopwords (in Spanish), etc.\n",
    "    - Code is available in [here](consolidate_clean.ipynb).\n"
   ]
  },
  {
   "cell_type": "markdown",
   "metadata": {},
   "source": [
    "## Findings"
   ]
  },
  {
   "cell_type": "markdown",
   "metadata": {},
   "source": [
    "All code for analysis available [here](speeches_analysis.ipynb).\n",
    "\n",
    "- Number of unique speeches: 2,651.\n",
    "- Number of days in office: 2,041.\n",
    "- Number of days in which at least one speech was given: 1,442\n",
    "- Maximum number of speeches in a day: 6 (twice)"
   ]
  },
  {
   "cell_type": "markdown",
   "metadata": {},
   "source": [
    "Here some visualizations of key findings:"
   ]
  },
  {
   "cell_type": "markdown",
   "metadata": {},
   "source": [
    "<img src=\"images/hist_daily.png\">"
   ]
  },
  {
   "cell_type": "markdown",
   "metadata": {},
   "source": [
    "<img src=\"images/line_month.png\">"
   ]
  },
  {
   "cell_type": "markdown",
   "metadata": {},
   "source": [
    "The vertical blue line indicates the month in which the Law of Electoral Guarantees was enacted. This law limited the President's  interventions, as he announced running for reelection."
   ]
  },
  {
   "cell_type": "markdown",
   "metadata": {},
   "source": [
    "<img src=\"images/paz_terroristas_month.png\">"
   ]
  },
  {
   "cell_type": "markdown",
   "metadata": {},
   "source": [
    "The vertical blue line indicates the official start of peace talks with FARC."
   ]
  },
  {
   "cell_type": "markdown",
   "metadata": {},
   "source": [
    "<img src=\"images/topics_total.png\">"
   ]
  },
  {
   "cell_type": "markdown",
   "metadata": {},
   "source": [
    "<img src=\"images/dispersion1.png\">"
   ]
  },
  {
   "cell_type": "markdown",
   "metadata": {
    "collapsed": true
   },
   "source": [
    "<img src=\"images/dispersion2.png\">"
   ]
  },
  {
   "cell_type": "markdown",
   "metadata": {},
   "source": [
    "---"
   ]
  }
 ],
 "metadata": {
  "kernelspec": {
   "display_name": "Python 3",
   "language": "python",
   "name": "python3"
  },
  "language_info": {
   "codemirror_mode": {
    "name": "ipython",
    "version": 3
   },
   "file_extension": ".py",
   "mimetype": "text/x-python",
   "name": "python",
   "nbconvert_exporter": "python",
   "pygments_lexer": "ipython3",
   "version": "3.5.1"
  }
 },
 "nbformat": 4,
 "nbformat_minor": 0
}
