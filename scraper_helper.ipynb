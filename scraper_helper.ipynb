{
 "cells": [
  {
   "cell_type": "markdown",
   "metadata": {},
   "source": [
    "Author: Santiago Matallana\n",
    "\n",
    "Project: Presidential speeches\n",
    "\n",
    "Created: 2016-03-13\n",
    "\n",
    "Purpose: Helper functions to scrape speeches"
   ]
  },
  {
   "cell_type": "markdown",
   "metadata": {},
   "source": [
    "---"
   ]
  },
  {
   "cell_type": "code",
   "execution_count": 1,
   "metadata": {
    "collapsed": true
   },
   "outputs": [],
   "source": [
    "# Requirements\n",
    "\n",
    "import requests\n",
    "from bs4 import BeautifulSoup\n",
    "import re"
   ]
  },
  {
   "cell_type": "code",
   "execution_count": 2,
   "metadata": {
    "collapsed": true
   },
   "outputs": [],
   "source": [
    "# Constants\n",
    "\n",
    "MONTHS = ['Enero', 'Febrero', 'Marzo', 'Abril', 'Mayo', 'Junio', 'Julio', \\\n",
    "    'Agosto', 'Septiembre', 'Octubre', 'Noviembre', 'Diciembre']\n",
    "YEARS = ['2010', '2011', '2012', '2013', '2014', '2015']"
   ]
  },
  {
   "cell_type": "code",
   "execution_count": 3,
   "metadata": {
    "collapsed": true
   },
   "outputs": [],
   "source": [
    "def get_html(url):\n",
    "    '''\n",
    "    Requests url and parses text. Returns Beautiful Soup object.\n",
    "    '''\n",
    "    resp = requests.get(url).text\n",
    "    return BeautifulSoup(resp,\"lxml\")"
   ]
  },
  {
   "cell_type": "code",
   "execution_count": 4,
   "metadata": {
    "collapsed": true
   },
   "outputs": [],
   "source": [
    "def get_links(soup, regex):\n",
    "    '''\n",
    "    Extracts url links to speeches. Returns a list of urls of speeches.\n",
    "    '''\n",
    "    links = soup.find_all('a')\n",
    "    return re.findall(regex, str(links))"
   ]
  },
  {
   "cell_type": "code",
   "execution_count": 5,
   "metadata": {
    "collapsed": true
   },
   "outputs": [],
   "source": [
    "def links_speeches(main_urls, regex):\n",
    "    '''\n",
    "    Makes a list with the links to all speeches.\n",
    "    '''\n",
    "    speeches_urls = []\n",
    "    for url in main_urls:\n",
    "        soup = get_html(url)\n",
    "        urls = get_links(soup, regex)\n",
    "        speeches_urls = speeches_urls + urls\n",
    "    return speeches_urls"
   ]
  },
  {
   "cell_type": "code",
   "execution_count": 6,
   "metadata": {
    "collapsed": true
   },
   "outputs": [],
   "source": [
    "def get_date(speech_url):\n",
    "    '''\n",
    "    Returns year, month, and day from url\n",
    "    '''\n",
    "    date = re.findall('Paginas/(.{8})', speech_url)[0]\n",
    "    year = date[0:4]\n",
    "    month = date[4:6]\n",
    "    day = date[6:8]\n",
    "    return year, month, day"
   ]
  },
  {
   "cell_type": "code",
   "execution_count": 7,
   "metadata": {
    "collapsed": true
   },
   "outputs": [],
   "source": [
    "def get_title(soup):\n",
    "    '''\n",
    "    Returns title of speech\n",
    "    '''\n",
    "    return soup.title.text.strip()"
   ]
  },
  {
   "cell_type": "code",
   "execution_count": 8,
   "metadata": {
    "collapsed": true
   },
   "outputs": [],
   "source": [
    "def get_speech(soup):\n",
    "    '''\n",
    "    Returns text of speech\n",
    "    '''\n",
    "    return str(soup.find_all('p'))"
   ]
  },
  {
   "cell_type": "code",
   "execution_count": 9,
   "metadata": {
    "collapsed": true
   },
   "outputs": [],
   "source": [
    "def get_location(soup):\n",
    "    '''\n",
    "    Returns location of speech\n",
    "    '''\n",
    "    text = soup.p.text\n",
    "    str1 = 'id=\"ctl00_PlaceHolderMain_ctl05__ControlWrapper_RichHtmlField\" style=\"display:inline\">'\n",
    "    str2 = 'id=\"ctl00_PlaceHolderMain_content__ControlWrapper_RichHtmlField\" style=\"display:inline\"><p>'\n",
    "    if len(re.findall('(.+), [0-9].+', text)) != 0:\n",
    "        location = re.findall('(.+), [0-9].+', text)[0]\n",
    "    elif len(re.findall(str1 + '(.+), [0-9].+', str(soup))) != 0:\n",
    "        location = re.findall(str1 + '(.+), [0-9].+', str(soup))[0]\n",
    "    elif len(re.findall(str2 + '(.+), [0-9].+', str(soup))) != 0:\n",
    "        location = re.findall(str2 + '(.+), [0-9].+', str(soup))[0]\n",
    "    else:\n",
    "        location = 'N.A.'\n",
    "    location = location.strip('<strong>')\n",
    "    return location"
   ]
  },
  {
   "cell_type": "code",
   "execution_count": 10,
   "metadata": {
    "collapsed": true
   },
   "outputs": [],
   "source": [
    "def remove_tags(text):\n",
    "    '''\n",
    "    Strips text from html and other tags\n",
    "    '''\n",
    "    return re.sub('<[^>]+>|\\]|\\[|\\\\u200b|\\\\n|\\xa0', '', text)"
   ]
  },
  {
   "cell_type": "code",
   "execution_count": 12,
   "metadata": {
    "collapsed": true
   },
   "outputs": [],
   "source": [
    "def get_speech_elements(speech_url):\n",
    "    '''\n",
    "    Returns\n",
    "    '''\n",
    "    print('Speech url: ', speech_url)\n",
    "    soup = get_html(speech_url)\n",
    "    title = get_title(soup)\n",
    "    year, month, day = get_date(speech_url)\n",
    "    speech = remove_tags(get_speech(soup))\n",
    "    location = get_location(soup)\n",
    "    return [year, month, day, title, location, speech_url, speech]"
   ]
  }
 ],
 "metadata": {
  "kernelspec": {
   "display_name": "Python 3",
   "language": "python",
   "name": "python3"
  },
  "language_info": {
   "codemirror_mode": {
    "name": "ipython",
    "version": 3
   },
   "file_extension": ".py",
   "mimetype": "text/x-python",
   "name": "python",
   "nbconvert_exporter": "python",
   "pygments_lexer": "ipython3",
   "version": "3.5.1"
  }
 },
 "nbformat": 4,
 "nbformat_minor": 0
}
